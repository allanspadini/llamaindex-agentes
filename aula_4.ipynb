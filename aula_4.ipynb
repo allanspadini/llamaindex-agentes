{
 "cells": [
  {
   "cell_type": "markdown",
   "id": "fab9a5de",
   "metadata": {
    "id": "Ohz6UB2VyBJi"
   },
   "source": [
    "# Aula 1 - Criando um agente de funções"
   ]
  },
  {
   "cell_type": "markdown",
   "id": "707f442b",
   "metadata": {
    "id": "3rbpqBGiyG_r"
   },
   "source": [
    "## Vídeo 1.2 - Configurando o LlamaIndex"
   ]
  },
  {
   "cell_type": "code",
   "execution_count": null,
   "id": "888c1e47",
   "metadata": {
    "id": "QMzMw0wUDiId"
   },
   "outputs": [],
   "source": [
    "!pip install llama-index llama_index.embeddings.huggingface llama-index-readers-file llama-index-llms-groq arxiv llama-index-tools-tavily-research crewai crewai-tools gradio"
   ]
  },
  {
   "cell_type": "code",
   "execution_count": null,
   "id": "a3680467",
   "metadata": {
    "id": "dqHDQ5pGylR0"
   },
   "outputs": [],
   "source": [
    "from llama_index.core import Settings"
   ]
  },
  {
   "cell_type": "code",
   "execution_count": null,
   "id": "71987795",
   "metadata": {
    "id": "2d8leJQuy1Ig"
   },
   "outputs": [],
   "source": [
    "from google.colab import userdata\n",
    "groq = userdata.get('GROQ_API_KEY')"
   ]
  },
  {
   "cell_type": "code",
   "execution_count": null,
   "id": "b84bac0b",
   "metadata": {
    "id": "_p0npmb002xH"
   },
   "outputs": [],
   "source": [
    "from llama_index.llms.groq import Groq\n",
    "\n",
    "llm = Groq(model=\"llama3-groq-70b-8192-tool-use-preview\", api_key=groq)"
   ]
  },
  {
   "cell_type": "code",
   "execution_count": null,
   "id": "0b73969f",
   "metadata": {
    "id": "g-ZDj1cl3V4l"
   },
   "outputs": [],
   "source": [
    "Settings.llm = llm"
   ]
  },
  {
   "cell_type": "code",
   "execution_count": null,
   "id": "1cb1a1fc",
   "metadata": {
    "id": "GZX5OHSQ3gSD"
   },
   "outputs": [],
   "source": [
    "def calcular_engajamento(curtidas: int, comentarios: int, compartilhamentos: int, seguidores: int) -> str:\n",
    "    \"\"\"\n",
    "    Calcula o engajamento total e a taxa de engajamento de uma postagem.\n",
    "\n",
    "    Args:\n",
    "        curtidas (int): Número de curtidas na postagem.\n",
    "        comentarios (int): Número de comentários na postagem.\n",
    "        compartilhamentos (int): Número de compartilhamentos da postagem.\n",
    "        seguidores (int): Número total de seguidores.\n",
    "\n",
    "    Returns:\n",
    "        dict: Um dicionário contendo o engajamento total (int) e a taxa de engajamento (float, em porcentagem).\n",
    "    \"\"\"\n",
    "    engajamento_total = curtidas + comentarios + compartilhamentos\n",
    "    taxa_engajamento = (engajamento_total / seguidores) * 100 if seguidores > 0 else 0\n",
    "    dicionario = {\"engajamento_total\": engajamento_total,\"taxa_engajamento\": round(taxa_engajamento, 2)}\n",
    "    resultado = f\"O engajamento total é {engajamento_total} e a taxa de engajamento é {round(taxa_engajamento, 2)}%.\"\n",
    "    # Return the dictionary directly\n",
    "    return resultado"
   ]
  },
  {
   "cell_type": "markdown",
   "id": "e47153b7",
   "metadata": {
    "id": "_xzWodeG30vU"
   },
   "source": [
    "## Vídeo 1.3 - Transformando a função em ferramenta"
   ]
  },
  {
   "cell_type": "code",
   "execution_count": null,
   "id": "61c81965",
   "metadata": {
    "id": "SW2TJtS33jgm"
   },
   "outputs": [],
   "source": [
    "from llama_index.core.tools import FunctionTool"
   ]
  },
  {
   "cell_type": "code",
   "execution_count": null,
   "id": "85003469",
   "metadata": {
    "id": "Pz4gApGf5eI7"
   },
   "outputs": [],
   "source": [
    "ferramenta = FunctionTool.from_defaults(fn=calcular_engajamento,name=\"Calcular Engajamento\",description=(\n",
    "        \"Calcula o engajamento total e a taxa de engajamento de uma postagem nas redes sociais. \"\n",
    "        \"Argumentos: curtidas (int), comentarios (int), compartilhamentos (int), seguidores (int). \"\n",
    "        \"Retorna uma string com o engajamento total e a taxa de engajamento.\"\n",
    "    ))"
   ]
  },
  {
   "cell_type": "code",
   "execution_count": null,
   "id": "183cbc81",
   "metadata": {
    "id": "RGZ88sGUInWM"
   },
   "outputs": [],
   "source": [
    "from llama_index.core.agent import FunctionCallingAgentWorker"
   ]
  },
  {
   "cell_type": "code",
   "execution_count": null,
   "id": "e592734f",
   "metadata": {
    "id": "nAAj1Tq7IpMB"
   },
   "outputs": [],
   "source": [
    "agent_worker = FunctionCallingAgentWorker.from_tools(\n",
    "    tools=[ferramenta],\n",
    "    verbose=True,\n",
    "    allow_parallel_tool_calls=True,\n",
    "    llm=llm,\n",
    ")"
   ]
  },
  {
   "cell_type": "code",
   "execution_count": null,
   "id": "72202c5d",
   "metadata": {
    "id": "11XOdp_HKDPk"
   },
   "outputs": [],
   "source": [
    "from llama_index.core.agent import AgentRunner"
   ]
  },
  {
   "cell_type": "code",
   "execution_count": null,
   "id": "d3c04661",
   "metadata": {
    "id": "uOTi0ZqHKLwA"
   },
   "outputs": [],
   "source": [
    "agent = AgentRunner(agent_worker)"
   ]
  },
  {
   "cell_type": "code",
   "execution_count": null,
   "id": "066523ed",
   "metadata": {
    "id": "z8fvWuFsKNqI"
   },
   "outputs": [],
   "source": [
    "response =agent.chat(\"Qual é o engajamento de uma postagem que teve 150 curtidas, 35 comentários, 20 compartilhamentos, e o perfil tem 2000 seguidores?\")"
   ]
  },
  {
   "cell_type": "code",
   "execution_count": null,
   "id": "b54a4dd4",
   "metadata": {
    "id": "7RxIyuDcKktP"
   },
   "outputs": [],
   "source": [
    "response = agent.chat(\"Quem é Albert Einstein?\")"
   ]
  },
  {
   "cell_type": "markdown",
   "id": "da7fc9ec",
   "metadata": {
    "id": "pGVU_4CEK1jv"
   },
   "source": [
    "## Vídeo 1.4 - Consultando artigos"
   ]
  },
  {
   "cell_type": "code",
   "execution_count": null,
   "id": "9f36b2b5",
   "metadata": {
    "id": "RQFRh6ywKm74"
   },
   "outputs": [],
   "source": [
    "import arxiv"
   ]
  },
  {
   "cell_type": "code",
   "execution_count": null,
   "id": "67db4820",
   "metadata": {
    "id": "hVz9_zxvLoPV"
   },
   "outputs": [],
   "source": [
    "def consulta_artigos(titulo: str) -> str:\n",
    "    \"\"\"\n",
    "    Consulta os artigos na base de dados arXiv e retorna resultados formatados.\n",
    "    \"\"\"\n",
    "    busca = arxiv.Search(\n",
    "        query=titulo,\n",
    "        max_results=5,\n",
    "        sort_by=arxiv.SortCriterion.Relevance\n",
    "    )\n",
    "\n",
    "    resultados = []\n",
    "    for resultado in busca.results():\n",
    "        resultados.append(f\"Título: {resultado.title}\\n\"\n",
    "                          f\"Resumo: {resultado.summary}\\n\"\n",
    "                          f\"Categoria: {resultado.primary_category}\\n\"\n",
    "                          f\"Link: {resultado.entry_id}\\n\")\n",
    "\n",
    "    return \"\\n\\n\".join(resultados)"
   ]
  },
  {
   "cell_type": "code",
   "execution_count": null,
   "id": "7f0adc2b",
   "metadata": {
    "id": "1O49TMAoLo1g"
   },
   "outputs": [],
   "source": [
    "consulta_artigos_tool = FunctionTool.from_defaults(fn=consulta_artigos)"
   ]
  },
  {
   "cell_type": "code",
   "execution_count": null,
   "id": "97049da0",
   "metadata": {
    "id": "VKPxtifSLr0D"
   },
   "outputs": [],
   "source": [
    "agent_worker = FunctionCallingAgentWorker.from_tools(\n",
    "    [ferramenta, consulta_artigos_tool],\n",
    "    verbose=True,\n",
    "    allow_parallel_tool_calls=False,\n",
    ")"
   ]
  },
  {
   "cell_type": "code",
   "execution_count": null,
   "id": "a4217777",
   "metadata": {
    "id": "NhPXxJcPNXVi"
   },
   "outputs": [],
   "source": [
    "agent = AgentRunner(agent_worker)"
   ]
  },
  {
   "cell_type": "code",
   "execution_count": null,
   "id": "73d7a379",
   "metadata": {
    "id": "Jff1Ax5qNf8g"
   },
   "outputs": [],
   "source": [
    "response = agent.chat(\"Me retorne artigos sobre o uso da inteligência artificial nas redes sociais\")"
   ]
  },
  {
   "cell_type": "markdown",
   "id": "006dfa0b",
   "metadata": {
    "id": "g6U2VZ3aN2Bc"
   },
   "source": [
    "# Aula 2 - Aprofundando nas pesquisas"
   ]
  },
  {
   "cell_type": "markdown",
   "id": "15ed644d",
   "metadata": {
    "id": "UqNXGikaPNeu"
   },
   "source": [
    "## Vídeo 2.1 - Adotando ferramentas prontas"
   ]
  },
  {
   "cell_type": "code",
   "execution_count": null,
   "id": "875f8936",
   "metadata": {
    "id": "96LLAGw_Nhyt"
   },
   "outputs": [],
   "source": [
    "tavily_key = userdata.get('tavily')"
   ]
  },
  {
   "cell_type": "code",
   "execution_count": null,
   "id": "a51d8383",
   "metadata": {
    "id": "pZKQNeIhQC_L"
   },
   "outputs": [],
   "source": [
    "from llama_index.tools.tavily_research import TavilyToolSpec\n",
    "\n",
    "tavily_tool = TavilyToolSpec(\n",
    "    api_key=tavily_key,\n",
    ")"
   ]
  },
  {
   "cell_type": "code",
   "execution_count": null,
   "id": "25e396ed",
   "metadata": {
    "id": "W_r_uBHZQ0pO"
   },
   "outputs": [],
   "source": [
    "tavily_tool_list = tavily_tool.to_tool_list()\n",
    "for tool in tavily_tool_list:\n",
    "    print(tool.metadata.name)"
   ]
  },
  {
   "cell_type": "code",
   "execution_count": null,
   "id": "6f998c28",
   "metadata": {
    "id": "UfGCLEsNRPOJ"
   },
   "outputs": [],
   "source": [
    "tavily_tool.search(\"Me retorne artigos científicos sobre o uso da inteligência artificial nas redes sociais que você encontrar na web\", max_results=3)"
   ]
  },
  {
   "cell_type": "code",
   "execution_count": null,
   "id": "24408020",
   "metadata": {
    "id": "w7_4Y5x5SL4Q"
   },
   "outputs": [],
   "source": [
    "agent_worker = FunctionCallingAgentWorker.from_tools(tavily_tool.to_tool_list())"
   ]
  },
  {
   "cell_type": "code",
   "execution_count": null,
   "id": "6e1718c7",
   "metadata": {
    "id": "Kb5He2GZSq6Y"
   },
   "outputs": [],
   "source": [
    "agent = AgentRunner(agent_worker)"
   ]
  },
  {
   "cell_type": "code",
   "execution_count": null,
   "id": "069febbe",
   "metadata": {
    "id": "dlxN7mQoSr3X"
   },
   "outputs": [],
   "source": [
    "response = agent.chat(\"Me retorne artigos científicos sobre o uso da inteligência artificial nas redes sociais que você encontrar na web\")"
   ]
  },
  {
   "cell_type": "code",
   "execution_count": null,
   "id": "98607f1b",
   "metadata": {
    "id": "gG_Hi7mES3LP"
   },
   "outputs": [],
   "source": [
    "print(response)"
   ]
  },
  {
   "cell_type": "markdown",
   "id": "47409830",
   "metadata": {
    "id": "hBYZsd43THb_"
   },
   "source": [
    "## Vídeo 2.2 - Criando uma base de dados vetorial"
   ]
  },
  {
   "cell_type": "code",
   "execution_count": null,
   "id": "ef2e7f00",
   "metadata": {
    "id": "drZHF8AXS5J7"
   },
   "outputs": [],
   "source": [
    "from llama_index.core import SimpleDirectoryReader, VectorStoreIndex"
   ]
  },
  {
   "cell_type": "code",
   "execution_count": null,
   "id": "d5ef58e5",
   "metadata": {
    "id": "-iK8Qck35_1Q"
   },
   "outputs": [],
   "source": [
    "url = '/content/drive/MyDrive/Alura/Cursos/4169 - LlamaIndex: Criando Agentes para utilização de ferramentas personalizadas/Projeto/artigo1.pdf'\n",
    "artigo = SimpleDirectoryReader(input_files=[url]).load_data()"
   ]
  },
  {
   "cell_type": "code",
   "execution_count": null,
   "id": "b3a9dfe8",
   "metadata": {
    "id": "Xg-8ZcN46CFz"
   },
   "outputs": [],
   "source": [
    "url = '/content/drive/MyDrive/Alura/Cursos/4169 - LlamaIndex: Criando Agentes para utilização de ferramentas personalizadas/Projeto/livro1.pdf'\n",
    "livro = SimpleDirectoryReader(input_files=[url]).load_data()"
   ]
  },
  {
   "cell_type": "code",
   "execution_count": null,
   "id": "d0450f71",
   "metadata": {
    "id": "jziEJDbr6DOR"
   },
   "outputs": [],
   "source": [
    "from llama_index.embeddings.huggingface import HuggingFaceEmbedding"
   ]
  },
  {
   "cell_type": "code",
   "execution_count": null,
   "id": "851f080d",
   "metadata": {
    "id": "ixXwo7vz6E8h"
   },
   "outputs": [],
   "source": [
    "Settings.embed_model = HuggingFaceEmbedding(model_name=\"intfloat/multilingual-e5-large\")"
   ]
  },
  {
   "cell_type": "code",
   "execution_count": null,
   "id": "40d2c93b",
   "metadata": {
    "id": "tl07WxxP6HAr"
   },
   "outputs": [],
   "source": [
    "artigo_index = VectorStoreIndex.from_documents(artigo)\n",
    "livro_index = VectorStoreIndex.from_documents(livro)"
   ]
  },
  {
   "cell_type": "code",
   "execution_count": null,
   "id": "c9ef6ed2",
   "metadata": {
    "id": "TWMsBn_p6JwH"
   },
   "outputs": [],
   "source": [
    "artigo_index.storage_context.persist(persist_dir=\"/content/drive/MyDrive/Alura/Cursos/4169 - LlamaIndex: Criando Agentes para utilização de ferramentas personalizadas/Projeto/artigo\")\n",
    "livro_index.storage_context.persist(persist_dir=\"/content/drive/MyDrive/Alura/Cursos/4169 - LlamaIndex: Criando Agentes para utilização de ferramentas personalizadas/Projeto/livro\")"
   ]
  },
  {
   "cell_type": "markdown",
   "id": "23cdb119",
   "metadata": {
    "id": "Pdy88NBw7wg2"
   },
   "source": [
    "## Vídeo 2.3 - Criando engines de busca"
   ]
  },
  {
   "cell_type": "code",
   "execution_count": null,
   "id": "f6bf69ad",
   "metadata": {
    "id": "P_3cyj-97zkj"
   },
   "outputs": [],
   "source": [
    "from llama_index.core import StorageContext, load_index_from_storage"
   ]
  },
  {
   "cell_type": "code",
   "execution_count": null,
   "id": "4268e192",
   "metadata": {
    "id": "wxtSnw6E71ym"
   },
   "outputs": [],
   "source": [
    "storage_context = StorageContext.from_defaults(\n",
    "        persist_dir=\"/content/drive/MyDrive/Alura/Cursos/4169 - LlamaIndex: Criando Agentes para utilização de ferramentas personalizadas/Projeto/artigo\"\n",
    "    )\n",
    "artigo_index = load_index_from_storage(storage_context)\n",
    "\n",
    "storage_context = StorageContext.from_defaults(\n",
    "        persist_dir=\"/content/drive/MyDrive/Alura/Cursos/4169 - LlamaIndex: Criando Agentes para utilização de ferramentas personalizadas/Projeto/livro\"\n",
    "    )\n",
    "livro_index = load_index_from_storage(storage_context)"
   ]
  },
  {
   "cell_type": "code",
   "execution_count": null,
   "id": "4714c857",
   "metadata": {
    "id": "hHAidVvc8D5p"
   },
   "outputs": [],
   "source": [
    "artigo_engine = artigo_index.as_query_engine(similarity_top_k=3)\n",
    "livro_engine = livro_index.as_query_engine(similarity_top_k=3)"
   ]
  },
  {
   "cell_type": "code",
   "execution_count": null,
   "id": "0f3020cd",
   "metadata": {
    "id": "aTHEdBBw8jnz"
   },
   "outputs": [],
   "source": [
    "from llama_index.core.tools import QueryEngineTool, ToolMetadata"
   ]
  },
  {
   "cell_type": "code",
   "execution_count": null,
   "id": "f4486596",
   "metadata": {
    "id": "Foq5aLyM8k9Z"
   },
   "outputs": [],
   "source": [
    "query_engine_tools = [\n",
    "    QueryEngineTool(\n",
    "        query_engine=artigo_engine,\n",
    "        metadata=ToolMetadata(\n",
    "            name=\"artigo_engine\",\n",
    "            description=(\n",
    "                \"Fornece informações sobre algoritmos de inteligência artificial nas redes sociais. \"\n",
    "                \"Use uma pergunta detalhada em texto simples como entrada para a ferramenta.\"\n",
    "            ),\n",
    "        ),\n",
    "    ),\n",
    "    QueryEngineTool(\n",
    "        query_engine=livro_engine,\n",
    "        metadata=ToolMetadata(\n",
    "            name=\"livro_engine\",\n",
    "            description=(\n",
    "                \"Fornece informações sobre avanços e tendências sobre inteligência artificial. \"\n",
    "                \"Use uma pergunta detalhada em texto simples como entrada para a ferramenta.\"\n",
    "            ),\n",
    "        ),\n",
    "    ),\n",
    "]"
   ]
  },
  {
   "cell_type": "markdown",
   "id": "bd28b04c",
   "metadata": {
    "id": "fOR226va83AU"
   },
   "source": [
    "# Aula 3 - Verificando o funcionamento do agente"
   ]
  },
  {
   "cell_type": "markdown",
   "id": "02fdf2fd",
   "metadata": {
    "id": "qXmG2d9BCoWS"
   },
   "source": [
    "## Vídeo 3.1 - Consultando os textos com agentes"
   ]
  },
  {
   "cell_type": "code",
   "execution_count": null,
   "id": "7cfe62c1",
   "metadata": {
    "id": "KRREpO_Q9LSp"
   },
   "outputs": [],
   "source": [
    "agent_worker = FunctionCallingAgentWorker.from_tools(\n",
    "    query_engine_tools,\n",
    "    verbose=True,\n",
    "    allow_parallel_tool_calls=True,\n",
    ")\n",
    "agent_document = AgentRunner(agent_worker)"
   ]
  },
  {
   "cell_type": "code",
   "execution_count": null,
   "id": "f7cf7ee9",
   "metadata": {
    "id": "-j9jafb3D1sQ"
   },
   "outputs": [],
   "source": [
    "response = agent_document.chat(\n",
    "    \"Quais os principais algoritmos de IA usados nas redes sociais?\"\n",
    ")"
   ]
  },
  {
   "cell_type": "code",
   "execution_count": null,
   "id": "538da4d4",
   "metadata": {
    "id": "f0mm3D4cEiJL"
   },
   "outputs": [],
   "source": [
    "agent_worker = FunctionCallingAgentWorker.from_tools(\n",
    "    query_engine_tools,\n",
    "    verbose=True,\n",
    "    allow_parallel_tool_calls=True,\n",
    ")\n",
    "agent_document = AgentRunner(agent_worker)"
   ]
  },
  {
   "cell_type": "code",
   "execution_count": null,
   "id": "c06af69c",
   "metadata": {
    "id": "4qIHL-UrEnN9"
   },
   "outputs": [],
   "source": [
    "response = agent_document.chat(\n",
    "    \"Quais as principais tendências de IA que eu deveria estudar?\"\n",
    ")"
   ]
  },
  {
   "cell_type": "markdown",
   "id": "d4287026",
   "metadata": {
    "id": "1-bJe5mREyAM"
   },
   "source": [
    "## Vídeo 3.2 - Usando um agente ReAct"
   ]
  },
  {
   "cell_type": "code",
   "execution_count": null,
   "id": "35b4537b",
   "metadata": {
    "id": "5IOtpZ00Gl1o"
   },
   "outputs": [],
   "source": [
    "from llama_index.core.agent import ReActAgent"
   ]
  },
  {
   "cell_type": "code",
   "execution_count": null,
   "id": "b3ea6be7",
   "metadata": {
    "id": "1FC1m9oVGv5q"
   },
   "outputs": [],
   "source": [
    "agente = ReActAgent.from_tools(\n",
    "    query_engine_tools,\n",
    "    verbose=True,\n",
    ")"
   ]
  },
  {
   "cell_type": "code",
   "execution_count": null,
   "id": "2128dda5",
   "metadata": {
    "id": "PNCGGCN8HGBw"
   },
   "outputs": [],
   "source": [
    "response = agente.chat(\"Quais os principais algoritmos de IA usados nas redes sociais?\")"
   ]
  },
  {
   "cell_type": "code",
   "execution_count": null,
   "id": "2a11134d",
   "metadata": {
    "id": "vZG78rLfHHRh"
   },
   "outputs": [],
   "source": [
    "agente = ReActAgent.from_tools(\n",
    "    query_engine_tools,\n",
    "    verbose=True,\n",
    ")"
   ]
  },
  {
   "cell_type": "code",
   "execution_count": null,
   "id": "bc01d68a",
   "metadata": {
    "id": "06_Lq2uBJMDr"
   },
   "outputs": [],
   "source": [
    "response = agente.chat(\"Quais as principais tendências de IA que eu deveria estudar?\")"
   ]
  },
  {
   "cell_type": "code",
   "execution_count": null,
   "id": "d45f90c5",
   "metadata": {
    "id": "vxUAqc4dJRmF"
   },
   "outputs": [],
   "source": [
    "agente = ReActAgent.from_tools(\n",
    "    query_engine_tools,\n",
    "    verbose=True,\n",
    ")"
   ]
  },
  {
   "cell_type": "code",
   "execution_count": null,
   "id": "05f817e4",
   "metadata": {
    "id": "hU_k_pPpJTbl"
   },
   "outputs": [],
   "source": [
    "response = agente.chat(\"Como o feed de uma rede social utiliza IA?\")"
   ]
  },
  {
   "cell_type": "markdown",
   "id": "bcc0d804",
   "metadata": {
    "id": "AZ7rWA6RJbjr"
   },
   "source": [
    "## Vídeo 3.3 - Configurando o CrewAI"
   ]
  },
  {
   "cell_type": "code",
   "execution_count": null,
   "id": "4f1452dc",
   "metadata": {
    "id": "RsBICGY3JjBQ"
   },
   "outputs": [],
   "source": [
    "from crewai import Agent, Task, Crew, Process, LLM\n",
    "from crewai_tools import LlamaIndexTool\n",
    "import arxiv"
   ]
  },
  {
   "cell_type": "code",
   "execution_count": null,
   "id": "85c3b55c",
   "metadata": {
    "id": "sP5mO5moJxwe"
   },
   "outputs": [],
   "source": [
    "ferramenta_artigos = FunctionTool.from_defaults(fn=consulta_artigos, name=\"consulta_artigos\", description=\"Consulta os artigos na base de dados arXiv e retorna resultados formatados.\")\n",
    "tool = LlamaIndexTool.from_tool(ferramenta_artigos)"
   ]
  },
  {
   "cell_type": "code",
   "execution_count": null,
   "id": "1b5de057",
   "metadata": {
    "id": "bOx3D1ABNjw0"
   },
   "outputs": [],
   "source": [
    "nvidia = userdata.get('nvidia-llama405b')"
   ]
  },
  {
   "cell_type": "code",
   "execution_count": null,
   "id": "4e2f8d2d",
   "metadata": {
    "id": "VPQi775FMY1w"
   },
   "outputs": [],
   "source": [
    "llm = LLM(\n",
    "    model=\"nvidia_nim/meta/llama-3.3-70b-instruct\",\n",
    "    api_key=nvidia\n",
    ")"
   ]
  },
  {
   "cell_type": "code",
   "execution_count": null,
   "id": "7be63f99",
   "metadata": {
    "id": "IC5yFKdiPk5L"
   },
   "outputs": [],
   "source": [
    "agent = Agent(\n",
    "    role='Agente de pesquisa',\n",
    "    goal='Fornece artigos científicos sobre um assunto de interesse.',\n",
    "    backstory='Um agente expert em pesquisa científica que possui a habilidade de buscar artigos no arxiv',\n",
    "    tools=[tool],\n",
    "    llm=llm\n",
    ")"
   ]
  },
  {
   "cell_type": "code",
   "execution_count": null,
   "id": "847b53e9",
   "metadata": {
    "id": "Dwhc9vtePmqJ"
   },
   "outputs": [],
   "source": [
    "task1 = Task(\n",
    "    description=\"Busque artigos científicos sobre o uso da inteligência artificial nas redes sociais. \",\n",
    "    expected_output=\"5 artigos e seus respectivos links\",\n",
    "    agent=agent\n",
    ")"
   ]
  },
  {
   "cell_type": "code",
   "execution_count": null,
   "id": "c50fffe5",
   "metadata": {
    "id": "6TUs7HLRPtqu"
   },
   "outputs": [],
   "source": [
    "crew = Crew(\n",
    "    agents=[agent],\n",
    "    tasks=[task1],\n",
    "    verbose=1,\n",
    ")"
   ]
  },
  {
   "cell_type": "code",
   "execution_count": null,
   "id": "3bf829e8",
   "metadata": {
    "id": "qD3Gp2GqPv8A"
   },
   "outputs": [],
   "source": [
    "result = crew.kickoff()\n",
    "\n",
    "print(\"######################\")\n",
    "print(result)"
   ]
  },
  {
   "cell_type": "markdown",
   "id": "99e06ef8",
   "metadata": {
    "id": "kNpBXg0fbwlg"
   },
   "source": [
    "# Aula 4 - Múltiplas tarefas e agentes"
   ]
  },
  {
   "cell_type": "markdown",
   "id": "5b300474",
   "metadata": {
    "id": "NYeXmqbDb9Bk"
   },
   "source": [
    "## Vídeo 4.1 - Adicionando uma nova tarefa"
   ]
  },
  {
   "cell_type": "code",
   "execution_count": null,
   "id": "889854f8",
   "metadata": {
    "id": "y1MkReHhZhzl"
   },
   "outputs": [],
   "source": [
    "import requests\n",
    "\n",
    "def baixar_pdf_arxiv(link):\n",
    "    \"\"\"\n",
    "    Baixa o PDF de um artigo do arXiv dado o link do artigo.\n",
    "\n",
    "    Args:\n",
    "        link (str): O link para o artigo no arXiv.\n",
    "\n",
    "    Returns:\n",
    "        str: O caminho do arquivo salvo ou uma mensagem de erro.\n",
    "    \"\"\"\n",
    "    try:\n",
    "        # Verifica se o link é do arXiv\n",
    "        if \"arxiv.org\" not in link:\n",
    "            return \"O link fornecido não é um link válido do arXiv.\"\n",
    "\n",
    "        # Extrai o ID do artigo do link\n",
    "        artigo_id = link.split(\"/\")[-1]\n",
    "\n",
    "        # Monta o link direto para o PDF\n",
    "        pdf_url = f\"https://arxiv.org/pdf/{artigo_id}.pdf\"\n",
    "\n",
    "        # Faz o download do PDF\n",
    "        response = requests.get(pdf_url, stream=True)\n",
    "        if response.status_code == 200:\n",
    "            nome_arquivo = f\"artigo_{artigo_id}.pdf\"\n",
    "            with open(nome_arquivo, \"wb\") as f:\n",
    "                for chunk in response.iter_content(chunk_size=1024):\n",
    "                    f.write(chunk)\n",
    "            return f\"PDF salvo como {nome_arquivo}\"\n",
    "        else:\n",
    "            return f\"Erro ao baixar o PDF. Código de status: {response.status_code}\"\n",
    "    except Exception as e:\n",
    "        return f\"Ocorreu um erro: {e}\""
   ]
  },
  {
   "cell_type": "code",
   "execution_count": null,
   "id": "b0183f1f",
   "metadata": {
    "id": "u5nMm0yrdphv"
   },
   "outputs": [],
   "source": [
    "ferramenta_baixar = FunctionTool.from_defaults(fn=baixar_pdf_arxiv, name=\"baixa_artigos\", description=\"Baixa o PDF de um artigo do arXiv dado o link do artigo.\")\n",
    "tool_baixar = LlamaIndexTool.from_tool(ferramenta_baixar)"
   ]
  },
  {
   "cell_type": "code",
   "execution_count": null,
   "id": "ff4c4a4b",
   "metadata": {
    "id": "3WOuiQKyeN8k"
   },
   "outputs": [],
   "source": [
    "agent = Agent(\n",
    "    role='Agente de pesquisa',\n",
    "    goal='Fornece artigos científicos sobre um assunto de interesse.',\n",
    "    backstory='Um agente expert em pesquisa científica que possui a habilidade de acessar e baixar artigos no arxiv',\n",
    "    tools=[tool,tool_baixar],\n",
    "    llm=llm\n",
    ")"
   ]
  },
  {
   "cell_type": "code",
   "execution_count": null,
   "id": "e21b1901",
   "metadata": {
    "id": "Kto6XIdPecDo"
   },
   "outputs": [],
   "source": [
    "task2 = Task(\n",
    "    description=\"\"\"Usando os links gerados na primeira tarefa, baixe os artigos em PDF.\"\"\",\n",
    "    expected_output=\"Nome dos artigos baixados\",\n",
    "    agent=agent,\n",
    ")"
   ]
  },
  {
   "cell_type": "code",
   "execution_count": null,
   "id": "3478d5eb",
   "metadata": {
    "id": "hMIiSyjnhSMr"
   },
   "outputs": [],
   "source": [
    "crew2 = Crew(\n",
    "    agents=[agent],\n",
    "    tasks=[task1, task2],\n",
    "    verbose=1,\n",
    ")"
   ]
  },
  {
   "cell_type": "code",
   "execution_count": null,
   "id": "6406ac40",
   "metadata": {
    "id": "mrTFNIcphUrq"
   },
   "outputs": [],
   "source": [
    "# Get your crew to work!\n",
    "result = crew2.kickoff()\n",
    "\n",
    "print(\"######################\")\n",
    "print(result)"
   ]
  },
  {
   "cell_type": "markdown",
   "id": "9de56259",
   "metadata": {
    "id": "RPBghR3Bjb2E"
   },
   "source": [
    "## Vídeo 4.2 - Combinando agentes"
   ]
  },
  {
   "cell_type": "code",
   "execution_count": null,
   "id": "808d3e7a",
   "metadata": {
    "id": "VqHarogN563f"
   },
   "outputs": [],
   "source": [
    "tavily_tools = tavily_tool.to_tool_list()\n",
    "tools = [LlamaIndexTool.from_tool(t) for t in tavily_tools]"
   ]
  },
  {
   "cell_type": "code",
   "execution_count": null,
   "id": "aedb17f6",
   "metadata": {
    "id": "Jla6skHphW1t"
   },
   "outputs": [],
   "source": [
    "agent_web = Agent(\n",
    "    role='Agente de pesquisa por documentos na web',\n",
    "    goal='Fornece artigos científicos encontrados na web sobre um assunto de interesse.',\n",
    "    backstory='Um agente expert em pesquisa científica que possui a habilidade de buscar artigos na web e retorna artigos de fontes como springer, scielo, reseachgate entre outros',\n",
    "    tools=[*tools],\n",
    "    llm=llm\n",
    ")"
   ]
  },
  {
   "cell_type": "code",
   "execution_count": null,
   "id": "24bbdbd9",
   "metadata": {
    "id": "c3dz25BgAKmU"
   },
   "outputs": [],
   "source": [
    "agente_verificacao = Agent(\n",
    "    role='Agente de pesquisa que verifica se os documentos encontrados na web são realmente artigos científicos ou artigos em outros formatos',\n",
    "    goal='Fornece como saída os artigos científicos, os artigos em outros formatos, de fontes como o medium ou outros blogs, devem ser excluídos e substituídos por artigos científicos',\n",
    "    backstory='Um agente expert em pesquisa científica',\n",
    "    tools=[*tools],\n",
    "    llm=llm\n",
    ")"
   ]
  },
  {
   "cell_type": "code",
   "execution_count": null,
   "id": "7ff7e955",
   "metadata": {
    "id": "u0sWQl51Bh4s"
   },
   "outputs": [],
   "source": [
    "task1 = Task(\n",
    "    description=\"Busque artigos científicos sobre o uso da inteligência artificial nas redes sociais. \",\n",
    "    expected_output=\"5 artigos e seus respectivos links\",\n",
    "    agent=agent_web\n",
    ")"
   ]
  },
  {
   "cell_type": "code",
   "execution_count": null,
   "id": "7b01eabb",
   "metadata": {
    "id": "D7sxcfnbB0lU"
   },
   "outputs": [],
   "source": [
    "task2 = Task(\n",
    "    description=\"Verifique se os artigos encontrados na web realmente são artigos científicos. \",\n",
    "    expected_output=\"5 artigos e seus respectivos links\",\n",
    "    agent=agente_verificacao\n",
    ")"
   ]
  },
  {
   "cell_type": "code",
   "execution_count": null,
   "id": "c8c8f827",
   "metadata": {
    "id": "KBUCjXkXGK6u"
   },
   "outputs": [],
   "source": [
    "crew3 = Crew(\n",
    "    agents=[agent_web,agente_verificacao],\n",
    "    tasks=[task1, task2],\n",
    "    verbose=1,  # You can set it to 1 or 2 to different logging levels\n",
    ")"
   ]
  },
  {
   "cell_type": "code",
   "execution_count": null,
   "id": "69465f48",
   "metadata": {
    "id": "8MKdgNXdHtNm"
   },
   "outputs": [],
   "source": [
    "result = crew3.kickoff()\n",
    "\n",
    "print(\"######################\")\n",
    "print(result)"
   ]
  },
  {
   "cell_type": "markdown",
   "id": "9e351148",
   "metadata": {
    "id": "xbmHx3Jvjh6P"
   },
   "source": [
    "## Vídeo 4.3 - Trabalhando hierarquia"
   ]
  },
  {
   "cell_type": "code",
   "execution_count": null,
   "id": "80bf2e3b",
   "metadata": {
    "id": "yMTP-dAIhvHb"
   },
   "outputs": [],
   "source": [
    "task = Task(\n",
    "    description=\"Busque artigos científicos no arxiv sobre o uso da inteligência artificial nas redes sociais. \",\n",
    "    expected_output=\"5 artigos e seus respectivos links\",\n",
    "    agent=agent\n",
    ")"
   ]
  },
  {
   "cell_type": "code",
   "execution_count": null,
   "id": "cdc6c43d",
   "metadata": {
    "id": "6N-tXQ0xlxG4"
   },
   "outputs": [],
   "source": [
    "manager = Agent(\n",
    "    role=\"Gerente do projeto\",\n",
    "    goal=\"Gerenciar a equipe com eficiência e garantir a conclusão de tarefas de alta qualidade\",\n",
    "    backstory=\"Você é um gerente de projeto experiente, habilidoso em supervisionar projetos complexos e guiar equipes para o sucesso. Sua função é coordenar os esforços dos membros da equipe, garantindo que cada tarefa seja concluída no prazo e no mais alto padrão.\",\n",
    "    allow_delegation=True,\n",
    "    llm=llm\n",
    "\n",
    ")"
   ]
  },
  {
   "cell_type": "code",
   "execution_count": null,
   "id": "3207a136",
   "metadata": {
    "id": "LWGrio0FjlTQ"
   },
   "outputs": [],
   "source": [
    "crew_hierarquica = Crew(\n",
    "    agents=[agent, agent_web,agente_verificacao],\n",
    "    tasks=[task,task1, task2],\n",
    "    manager_agent=manager,\n",
    "    process=Process.hierarchical,\n",
    "    verbose=1,\n",
    ")"
   ]
  },
  {
   "cell_type": "code",
   "execution_count": null,
   "id": "d8867c98",
   "metadata": {
    "id": "4lVL7gQ6j1KH"
   },
   "outputs": [],
   "source": [
    "result = crew_hierarquica.kickoff()\n",
    "\n",
    "print(\"######################\")\n",
    "print(result)"
   ]
  }
 ],
 "metadata": {},
 "nbformat": 4,
 "nbformat_minor": 5
}