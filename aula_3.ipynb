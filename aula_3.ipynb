{
 "cells": [
  {
   "cell_type": "markdown",
   "id": "092ca275",
   "metadata": {
    "id": "Ohz6UB2VyBJi"
   },
   "source": [
    "# Aula 1 - Criando um agente de funções"
   ]
  },
  {
   "cell_type": "markdown",
   "id": "64178fd1",
   "metadata": {
    "id": "3rbpqBGiyG_r"
   },
   "source": [
    "## Vídeo 1.2 - Configurando o LlamaIndex"
   ]
  },
  {
   "cell_type": "code",
   "execution_count": null,
   "id": "cb61ce3c",
   "metadata": {
    "id": "QMzMw0wUDiId"
   },
   "outputs": [],
   "source": [
    "!pip install llama-index llama_index.embeddings.huggingface llama-index-readers-file llama-index-llms-groq arxiv llama-index-tools-tavily-research crewai crewai-tools gradio"
   ]
  },
  {
   "cell_type": "code",
   "execution_count": null,
   "id": "71919dbf",
   "metadata": {
    "id": "dqHDQ5pGylR0"
   },
   "outputs": [],
   "source": [
    "from llama_index.core import Settings"
   ]
  },
  {
   "cell_type": "code",
   "execution_count": null,
   "id": "99d77ded",
   "metadata": {
    "id": "2d8leJQuy1Ig"
   },
   "outputs": [],
   "source": [
    "from google.colab import userdata\n",
    "groq = userdata.get('GROQ_API_KEY')"
   ]
  },
  {
   "cell_type": "code",
   "execution_count": null,
   "id": "8dcd6b6a",
   "metadata": {
    "id": "_p0npmb002xH"
   },
   "outputs": [],
   "source": [
    "from llama_index.llms.groq import Groq\n",
    "\n",
    "llm = Groq(model=\"llama3-groq-70b-8192-tool-use-preview\", api_key=groq)"
   ]
  },
  {
   "cell_type": "code",
   "execution_count": null,
   "id": "7c427adc",
   "metadata": {
    "id": "g-ZDj1cl3V4l"
   },
   "outputs": [],
   "source": [
    "Settings.llm = llm"
   ]
  },
  {
   "cell_type": "code",
   "execution_count": null,
   "id": "8c625c26",
   "metadata": {
    "id": "GZX5OHSQ3gSD"
   },
   "outputs": [],
   "source": [
    "def calcular_engajamento(curtidas: int, comentarios: int, compartilhamentos: int, seguidores: int) -> str:\n",
    "    \"\"\"\n",
    "    Calcula o engajamento total e a taxa de engajamento de uma postagem.\n",
    "\n",
    "    Args:\n",
    "        curtidas (int): Número de curtidas na postagem.\n",
    "        comentarios (int): Número de comentários na postagem.\n",
    "        compartilhamentos (int): Número de compartilhamentos da postagem.\n",
    "        seguidores (int): Número total de seguidores.\n",
    "\n",
    "    Returns:\n",
    "        dict: Um dicionário contendo o engajamento total (int) e a taxa de engajamento (float, em porcentagem).\n",
    "    \"\"\"\n",
    "    engajamento_total = curtidas + comentarios + compartilhamentos\n",
    "    taxa_engajamento = (engajamento_total / seguidores) * 100 if seguidores > 0 else 0\n",
    "    dicionario = {\"engajamento_total\": engajamento_total,\"taxa_engajamento\": round(taxa_engajamento, 2)}\n",
    "    resultado = f\"O engajamento total é {engajamento_total} e a taxa de engajamento é {round(taxa_engajamento, 2)}%.\"\n",
    "    # Return the dictionary directly\n",
    "    return resultado"
   ]
  },
  {
   "cell_type": "markdown",
   "id": "e9c50339",
   "metadata": {
    "id": "_xzWodeG30vU"
   },
   "source": [
    "## Vídeo 1.3 - Transformando a função em ferramenta"
   ]
  },
  {
   "cell_type": "code",
   "execution_count": null,
   "id": "fc47871c",
   "metadata": {
    "id": "SW2TJtS33jgm"
   },
   "outputs": [],
   "source": [
    "from llama_index.core.tools import FunctionTool"
   ]
  },
  {
   "cell_type": "code",
   "execution_count": null,
   "id": "84a7f025",
   "metadata": {
    "id": "Pz4gApGf5eI7"
   },
   "outputs": [],
   "source": [
    "ferramenta = FunctionTool.from_defaults(fn=calcular_engajamento,name=\"Calcular Engajamento\",description=(\n",
    "        \"Calcula o engajamento total e a taxa de engajamento de uma postagem nas redes sociais. \"\n",
    "        \"Argumentos: curtidas (int), comentarios (int), compartilhamentos (int), seguidores (int). \"\n",
    "        \"Retorna uma string com o engajamento total e a taxa de engajamento.\"\n",
    "    ))"
   ]
  },
  {
   "cell_type": "code",
   "execution_count": null,
   "id": "b5f71218",
   "metadata": {
    "id": "RGZ88sGUInWM"
   },
   "outputs": [],
   "source": [
    "from llama_index.core.agent import FunctionCallingAgentWorker"
   ]
  },
  {
   "cell_type": "code",
   "execution_count": null,
   "id": "21dd17eb",
   "metadata": {
    "id": "nAAj1Tq7IpMB"
   },
   "outputs": [],
   "source": [
    "agent_worker = FunctionCallingAgentWorker.from_tools(\n",
    "    tools=[ferramenta],\n",
    "    verbose=True,\n",
    "    allow_parallel_tool_calls=True,\n",
    "    llm=llm,\n",
    ")"
   ]
  },
  {
   "cell_type": "code",
   "execution_count": null,
   "id": "476de474",
   "metadata": {
    "id": "11XOdp_HKDPk"
   },
   "outputs": [],
   "source": [
    "from llama_index.core.agent import AgentRunner"
   ]
  },
  {
   "cell_type": "code",
   "execution_count": null,
   "id": "0092b41c",
   "metadata": {
    "id": "uOTi0ZqHKLwA"
   },
   "outputs": [],
   "source": [
    "agent = AgentRunner(agent_worker)"
   ]
  },
  {
   "cell_type": "code",
   "execution_count": null,
   "id": "25fd3215",
   "metadata": {
    "id": "z8fvWuFsKNqI"
   },
   "outputs": [],
   "source": [
    "response =agent.chat(\"Qual é o engajamento de uma postagem que teve 150 curtidas, 35 comentários, 20 compartilhamentos, e o perfil tem 2000 seguidores?\")"
   ]
  },
  {
   "cell_type": "code",
   "execution_count": null,
   "id": "aa7510db",
   "metadata": {
    "id": "7RxIyuDcKktP"
   },
   "outputs": [],
   "source": [
    "response = agent.chat(\"Quem é Albert Einstein?\")"
   ]
  },
  {
   "cell_type": "markdown",
   "id": "ccf22c05",
   "metadata": {
    "id": "pGVU_4CEK1jv"
   },
   "source": [
    "## Vídeo 1.4 - Consultando artigos"
   ]
  },
  {
   "cell_type": "code",
   "execution_count": null,
   "id": "a3f4131f",
   "metadata": {
    "id": "RQFRh6ywKm74"
   },
   "outputs": [],
   "source": [
    "import arxiv"
   ]
  },
  {
   "cell_type": "code",
   "execution_count": null,
   "id": "9eb3a873",
   "metadata": {
    "id": "hVz9_zxvLoPV"
   },
   "outputs": [],
   "source": [
    "def consulta_artigos(titulo: str) -> str:\n",
    "    \"\"\"\n",
    "    Consulta os artigos na base de dados arXiv e retorna resultados formatados.\n",
    "    \"\"\"\n",
    "    busca = arxiv.Search(\n",
    "        query=titulo,\n",
    "        max_results=5,\n",
    "        sort_by=arxiv.SortCriterion.Relevance\n",
    "    )\n",
    "\n",
    "    resultados = []\n",
    "    for resultado in busca.results():\n",
    "        resultados.append(f\"Título: {resultado.title}\\n\"\n",
    "                          f\"Resumo: {resultado.summary}\\n\"\n",
    "                          f\"Categoria: {resultado.primary_category}\\n\"\n",
    "                          f\"Link: {resultado.entry_id}\\n\")\n",
    "\n",
    "    return \"\\n\\n\".join(resultados)"
   ]
  },
  {
   "cell_type": "code",
   "execution_count": null,
   "id": "eb64b3c8",
   "metadata": {
    "id": "1O49TMAoLo1g"
   },
   "outputs": [],
   "source": [
    "consulta_artigos_tool = FunctionTool.from_defaults(fn=consulta_artigos)"
   ]
  },
  {
   "cell_type": "code",
   "execution_count": null,
   "id": "f3e7ee68",
   "metadata": {
    "id": "VKPxtifSLr0D"
   },
   "outputs": [],
   "source": [
    "agent_worker = FunctionCallingAgentWorker.from_tools(\n",
    "    [ferramenta, consulta_artigos_tool],\n",
    "    verbose=True,\n",
    "    allow_parallel_tool_calls=False,\n",
    ")"
   ]
  },
  {
   "cell_type": "code",
   "execution_count": null,
   "id": "7a2730dd",
   "metadata": {
    "id": "NhPXxJcPNXVi"
   },
   "outputs": [],
   "source": [
    "agent = AgentRunner(agent_worker)"
   ]
  },
  {
   "cell_type": "code",
   "execution_count": null,
   "id": "0818b319",
   "metadata": {
    "id": "Jff1Ax5qNf8g"
   },
   "outputs": [],
   "source": [
    "response = agent.chat(\"Me retorne artigos sobre o uso da inteligência artificial nas redes sociais\")"
   ]
  },
  {
   "cell_type": "markdown",
   "id": "38a98552",
   "metadata": {
    "id": "g6U2VZ3aN2Bc"
   },
   "source": [
    "# Aula 2 - Aprofundando nas pesquisas"
   ]
  },
  {
   "cell_type": "markdown",
   "id": "1e0fd9a7",
   "metadata": {
    "id": "UqNXGikaPNeu"
   },
   "source": [
    "## Vídeo 2.1 - Adotando ferramentas prontas"
   ]
  },
  {
   "cell_type": "code",
   "execution_count": null,
   "id": "bb49c0c0",
   "metadata": {
    "id": "96LLAGw_Nhyt"
   },
   "outputs": [],
   "source": [
    "tavily_key = userdata.get('tavily')"
   ]
  },
  {
   "cell_type": "code",
   "execution_count": null,
   "id": "ef519498",
   "metadata": {
    "id": "pZKQNeIhQC_L"
   },
   "outputs": [],
   "source": [
    "from llama_index.tools.tavily_research import TavilyToolSpec\n",
    "\n",
    "tavily_tool = TavilyToolSpec(\n",
    "    api_key=tavily_key,\n",
    ")"
   ]
  },
  {
   "cell_type": "code",
   "execution_count": null,
   "id": "4f4e61e0",
   "metadata": {
    "id": "W_r_uBHZQ0pO"
   },
   "outputs": [],
   "source": [
    "tavily_tool_list = tavily_tool.to_tool_list()\n",
    "for tool in tavily_tool_list:\n",
    "    print(tool.metadata.name)"
   ]
  },
  {
   "cell_type": "code",
   "execution_count": null,
   "id": "8eb5539d",
   "metadata": {
    "id": "UfGCLEsNRPOJ"
   },
   "outputs": [],
   "source": [
    "tavily_tool.search(\"Me retorne artigos científicos sobre o uso da inteligência artificial nas redes sociais que você encontrar na web\", max_results=3)"
   ]
  },
  {
   "cell_type": "code",
   "execution_count": null,
   "id": "97be45c8",
   "metadata": {
    "id": "w7_4Y5x5SL4Q"
   },
   "outputs": [],
   "source": [
    "agent_worker = FunctionCallingAgentWorker.from_tools(tavily_tool.to_tool_list())"
   ]
  },
  {
   "cell_type": "code",
   "execution_count": null,
   "id": "6bedf1f7",
   "metadata": {
    "id": "Kb5He2GZSq6Y"
   },
   "outputs": [],
   "source": [
    "agent = AgentRunner(agent_worker)"
   ]
  },
  {
   "cell_type": "code",
   "execution_count": null,
   "id": "0ea71c04",
   "metadata": {
    "id": "dlxN7mQoSr3X"
   },
   "outputs": [],
   "source": [
    "response = agent.chat(\"Me retorne artigos científicos sobre o uso da inteligência artificial nas redes sociais que você encontrar na web\")"
   ]
  },
  {
   "cell_type": "code",
   "execution_count": null,
   "id": "078772ca",
   "metadata": {
    "id": "gG_Hi7mES3LP"
   },
   "outputs": [],
   "source": [
    "print(response)"
   ]
  },
  {
   "cell_type": "markdown",
   "id": "da5e1a83",
   "metadata": {
    "id": "hBYZsd43THb_"
   },
   "source": [
    "## Vídeo 2.2 - Criando uma base de dados vetorial"
   ]
  },
  {
   "cell_type": "code",
   "execution_count": null,
   "id": "3f29a733",
   "metadata": {
    "id": "drZHF8AXS5J7"
   },
   "outputs": [],
   "source": [
    "from llama_index.core import SimpleDirectoryReader, VectorStoreIndex"
   ]
  },
  {
   "cell_type": "code",
   "execution_count": null,
   "id": "121674e8",
   "metadata": {
    "id": "-iK8Qck35_1Q"
   },
   "outputs": [],
   "source": [
    "url = '/content/drive/MyDrive/Alura/Cursos/4169 - LlamaIndex: Criando Agentes para utilização de ferramentas personalizadas/Projeto/artigo1.pdf'\n",
    "artigo = SimpleDirectoryReader(input_files=[url]).load_data()"
   ]
  },
  {
   "cell_type": "code",
   "execution_count": null,
   "id": "2f977962",
   "metadata": {
    "id": "Xg-8ZcN46CFz"
   },
   "outputs": [],
   "source": [
    "url = '/content/drive/MyDrive/Alura/Cursos/4169 - LlamaIndex: Criando Agentes para utilização de ferramentas personalizadas/Projeto/livro1.pdf'\n",
    "livro = SimpleDirectoryReader(input_files=[url]).load_data()"
   ]
  },
  {
   "cell_type": "code",
   "execution_count": null,
   "id": "6efff99a",
   "metadata": {
    "id": "jziEJDbr6DOR"
   },
   "outputs": [],
   "source": [
    "from llama_index.embeddings.huggingface import HuggingFaceEmbedding"
   ]
  },
  {
   "cell_type": "code",
   "execution_count": null,
   "id": "dc8c0bc3",
   "metadata": {
    "id": "ixXwo7vz6E8h"
   },
   "outputs": [],
   "source": [
    "Settings.embed_model = HuggingFaceEmbedding(model_name=\"intfloat/multilingual-e5-large\")"
   ]
  },
  {
   "cell_type": "code",
   "execution_count": null,
   "id": "24c9d7ad",
   "metadata": {
    "id": "tl07WxxP6HAr"
   },
   "outputs": [],
   "source": [
    "artigo_index = VectorStoreIndex.from_documents(artigo)\n",
    "livro_index = VectorStoreIndex.from_documents(livro)"
   ]
  },
  {
   "cell_type": "code",
   "execution_count": null,
   "id": "91d267fd",
   "metadata": {
    "id": "TWMsBn_p6JwH"
   },
   "outputs": [],
   "source": [
    "artigo_index.storage_context.persist(persist_dir=\"/content/drive/MyDrive/Alura/Cursos/4169 - LlamaIndex: Criando Agentes para utilização de ferramentas personalizadas/Projeto/artigo\")\n",
    "livro_index.storage_context.persist(persist_dir=\"/content/drive/MyDrive/Alura/Cursos/4169 - LlamaIndex: Criando Agentes para utilização de ferramentas personalizadas/Projeto/livro\")"
   ]
  },
  {
   "cell_type": "markdown",
   "id": "6211494b",
   "metadata": {
    "id": "Pdy88NBw7wg2"
   },
   "source": [
    "## Vídeo 2.3 - Criando engines de busca"
   ]
  },
  {
   "cell_type": "code",
   "execution_count": null,
   "id": "73052b92",
   "metadata": {
    "id": "P_3cyj-97zkj"
   },
   "outputs": [],
   "source": [
    "from llama_index.core import StorageContext, load_index_from_storage"
   ]
  },
  {
   "cell_type": "code",
   "execution_count": null,
   "id": "de5fcf6a",
   "metadata": {
    "id": "wxtSnw6E71ym"
   },
   "outputs": [],
   "source": [
    "storage_context = StorageContext.from_defaults(\n",
    "        persist_dir=\"/content/drive/MyDrive/Alura/Cursos/4169 - LlamaIndex: Criando Agentes para utilização de ferramentas personalizadas/Projeto/artigo\"\n",
    "    )\n",
    "artigo_index = load_index_from_storage(storage_context)\n",
    "\n",
    "storage_context = StorageContext.from_defaults(\n",
    "        persist_dir=\"/content/drive/MyDrive/Alura/Cursos/4169 - LlamaIndex: Criando Agentes para utilização de ferramentas personalizadas/Projeto/livro\"\n",
    "    )\n",
    "livro_index = load_index_from_storage(storage_context)"
   ]
  },
  {
   "cell_type": "code",
   "execution_count": null,
   "id": "7321260a",
   "metadata": {
    "id": "hHAidVvc8D5p"
   },
   "outputs": [],
   "source": [
    "artigo_engine = artigo_index.as_query_engine(similarity_top_k=3)\n",
    "livro_engine = livro_index.as_query_engine(similarity_top_k=3)"
   ]
  },
  {
   "cell_type": "code",
   "execution_count": null,
   "id": "28a4b48f",
   "metadata": {
    "id": "aTHEdBBw8jnz"
   },
   "outputs": [],
   "source": [
    "from llama_index.core.tools import QueryEngineTool, ToolMetadata"
   ]
  },
  {
   "cell_type": "code",
   "execution_count": null,
   "id": "78db227e",
   "metadata": {
    "id": "Foq5aLyM8k9Z"
   },
   "outputs": [],
   "source": [
    "query_engine_tools = [\n",
    "    QueryEngineTool(\n",
    "        query_engine=artigo_engine,\n",
    "        metadata=ToolMetadata(\n",
    "            name=\"artigo_engine\",\n",
    "            description=(\n",
    "                \"Fornece informações sobre algoritmos de inteligência artificial nas redes sociais. \"\n",
    "                \"Use uma pergunta detalhada em texto simples como entrada para a ferramenta.\"\n",
    "            ),\n",
    "        ),\n",
    "    ),\n",
    "    QueryEngineTool(\n",
    "        query_engine=livro_engine,\n",
    "        metadata=ToolMetadata(\n",
    "            name=\"livro_engine\",\n",
    "            description=(\n",
    "                \"Fornece informações sobre avanços e tendências sobre inteligência artificial. \"\n",
    "                \"Use uma pergunta detalhada em texto simples como entrada para a ferramenta.\"\n",
    "            ),\n",
    "        ),\n",
    "    ),\n",
    "]"
   ]
  },
  {
   "cell_type": "markdown",
   "id": "859cb763",
   "metadata": {
    "id": "fOR226va83AU"
   },
   "source": [
    "# Aula 3 - Verificando o funcionamento do agente"
   ]
  },
  {
   "cell_type": "markdown",
   "id": "78562bf3",
   "metadata": {
    "id": "qXmG2d9BCoWS"
   },
   "source": [
    "## Vídeo 3.1 - Consultando os textos com agentes"
   ]
  },
  {
   "cell_type": "code",
   "execution_count": null,
   "id": "299e5e8f",
   "metadata": {
    "id": "KRREpO_Q9LSp"
   },
   "outputs": [],
   "source": [
    "agent_worker = FunctionCallingAgentWorker.from_tools(\n",
    "    query_engine_tools,\n",
    "    verbose=True,\n",
    "    allow_parallel_tool_calls=True,\n",
    ")\n",
    "agent_document = AgentRunner(agent_worker)"
   ]
  },
  {
   "cell_type": "code",
   "execution_count": null,
   "id": "22858299",
   "metadata": {
    "id": "-j9jafb3D1sQ"
   },
   "outputs": [],
   "source": [
    "response = agent_document.chat(\n",
    "    \"Quais os principais algoritmos de IA usados nas redes sociais?\"\n",
    ")"
   ]
  },
  {
   "cell_type": "code",
   "execution_count": null,
   "id": "c3b93257",
   "metadata": {
    "id": "f0mm3D4cEiJL"
   },
   "outputs": [],
   "source": [
    "agent_worker = FunctionCallingAgentWorker.from_tools(\n",
    "    query_engine_tools,\n",
    "    verbose=True,\n",
    "    allow_parallel_tool_calls=True,\n",
    ")\n",
    "agent_document = AgentRunner(agent_worker)"
   ]
  },
  {
   "cell_type": "code",
   "execution_count": null,
   "id": "da394552",
   "metadata": {
    "id": "4qIHL-UrEnN9"
   },
   "outputs": [],
   "source": [
    "response = agent_document.chat(\n",
    "    \"Quais as principais tendências de IA que eu deveria estudar?\"\n",
    ")"
   ]
  },
  {
   "cell_type": "markdown",
   "id": "78c1713c",
   "metadata": {
    "id": "1-bJe5mREyAM"
   },
   "source": [
    "## Vídeo 3.2 - Usando um agente ReAct"
   ]
  },
  {
   "cell_type": "code",
   "execution_count": null,
   "id": "7b4f17de",
   "metadata": {
    "id": "5IOtpZ00Gl1o"
   },
   "outputs": [],
   "source": [
    "from llama_index.core.agent import ReActAgent"
   ]
  },
  {
   "cell_type": "code",
   "execution_count": null,
   "id": "7c5339b5",
   "metadata": {
    "id": "1FC1m9oVGv5q"
   },
   "outputs": [],
   "source": [
    "agente = ReActAgent.from_tools(\n",
    "    query_engine_tools,\n",
    "    verbose=True,\n",
    ")"
   ]
  },
  {
   "cell_type": "code",
   "execution_count": null,
   "id": "abb5a847",
   "metadata": {
    "id": "PNCGGCN8HGBw"
   },
   "outputs": [],
   "source": [
    "response = agente.chat(\"Quais os principais algoritmos de IA usados nas redes sociais?\")"
   ]
  },
  {
   "cell_type": "code",
   "execution_count": null,
   "id": "68dcec24",
   "metadata": {
    "id": "vZG78rLfHHRh"
   },
   "outputs": [],
   "source": [
    "agente = ReActAgent.from_tools(\n",
    "    query_engine_tools,\n",
    "    verbose=True,\n",
    ")"
   ]
  },
  {
   "cell_type": "code",
   "execution_count": null,
   "id": "7fc41367",
   "metadata": {
    "id": "06_Lq2uBJMDr"
   },
   "outputs": [],
   "source": [
    "response = agente.chat(\"Quais as principais tendências de IA que eu deveria estudar?\")"
   ]
  },
  {
   "cell_type": "code",
   "execution_count": null,
   "id": "8ec19d93",
   "metadata": {
    "id": "vxUAqc4dJRmF"
   },
   "outputs": [],
   "source": [
    "agente = ReActAgent.from_tools(\n",
    "    query_engine_tools,\n",
    "    verbose=True,\n",
    ")"
   ]
  },
  {
   "cell_type": "code",
   "execution_count": null,
   "id": "0a0cf984",
   "metadata": {
    "id": "hU_k_pPpJTbl"
   },
   "outputs": [],
   "source": [
    "response = agente.chat(\"Como o feed de uma rede social utiliza IA?\")"
   ]
  },
  {
   "cell_type": "markdown",
   "id": "904e8c85",
   "metadata": {
    "id": "AZ7rWA6RJbjr"
   },
   "source": [
    "## Vídeo 3.3 - Configurando o CrewAI"
   ]
  },
  {
   "cell_type": "code",
   "execution_count": null,
   "id": "924ead5d",
   "metadata": {
    "id": "RsBICGY3JjBQ"
   },
   "outputs": [],
   "source": [
    "from crewai import Agent, Task, Crew, Process, LLM\n",
    "from crewai_tools import LlamaIndexTool\n",
    "import arxiv"
   ]
  },
  {
   "cell_type": "code",
   "execution_count": null,
   "id": "ae77b851",
   "metadata": {
    "id": "sP5mO5moJxwe"
   },
   "outputs": [],
   "source": [
    "ferramenta_artigos = FunctionTool.from_defaults(fn=consulta_artigos, name=\"consulta_artigos\", description=\"Consulta os artigos na base de dados arXiv e retorna resultados formatados.\")\n",
    "tool = LlamaIndexTool.from_tool(ferramenta_artigos)"
   ]
  },
  {
   "cell_type": "code",
   "execution_count": null,
   "id": "86ad905e",
   "metadata": {
    "id": "bOx3D1ABNjw0"
   },
   "outputs": [],
   "source": [
    "nvidia = userdata.get('nvidia-llama405b')"
   ]
  },
  {
   "cell_type": "code",
   "execution_count": null,
   "id": "b8ac1ab2",
   "metadata": {
    "id": "VPQi775FMY1w"
   },
   "outputs": [],
   "source": [
    "llm = LLM(\n",
    "    model=\"nvidia_nim/meta/llama-3.3-70b-instruct\",\n",
    "    api_key=nvidia\n",
    ")"
   ]
  },
  {
   "cell_type": "code",
   "execution_count": null,
   "id": "abaf214a",
   "metadata": {
    "id": "IC5yFKdiPk5L"
   },
   "outputs": [],
   "source": [
    "agent = Agent(\n",
    "    role='Agente de pesquisa',\n",
    "    goal='Fornece artigos científicos sobre um assunto de interesse.',\n",
    "    backstory='Um agente expert em pesquisa científica que possui a habilidade de buscar artigos no arxiv',\n",
    "    tools=[tool],\n",
    "    llm=llm\n",
    ")"
   ]
  },
  {
   "cell_type": "code",
   "execution_count": null,
   "id": "568b47b3",
   "metadata": {
    "id": "Dwhc9vtePmqJ"
   },
   "outputs": [],
   "source": [
    "task1 = Task(\n",
    "    description=\"Busque artigos científicos sobre o uso da inteligência artificial nas redes sociais. \",\n",
    "    expected_output=\"5 artigos e seus respectivos links\",\n",
    "    agent=agent\n",
    ")"
   ]
  },
  {
   "cell_type": "code",
   "execution_count": null,
   "id": "a13526a2",
   "metadata": {
    "id": "6TUs7HLRPtqu"
   },
   "outputs": [],
   "source": [
    "crew = Crew(\n",
    "    agents=[agent],\n",
    "    tasks=[task1],\n",
    "    verbose=1,\n",
    ")"
   ]
  },
  {
   "cell_type": "code",
   "execution_count": null,
   "id": "e59c25db",
   "metadata": {
    "id": "qD3Gp2GqPv8A"
   },
   "outputs": [],
   "source": [
    "result = crew.kickoff()\n",
    "\n",
    "print(\"######################\")\n",
    "print(result)"
   ]
  }
 ],
 "metadata": {},
 "nbformat": 4,
 "nbformat_minor": 5
}