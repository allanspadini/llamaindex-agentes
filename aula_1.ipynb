{
 "cells": [
  {
   "cell_type": "markdown",
   "id": "058febca",
   "metadata": {
    "id": "Ohz6UB2VyBJi"
   },
   "source": [
    "# Aula 1 - Criando um agente de funções"
   ]
  },
  {
   "cell_type": "markdown",
   "id": "fa4d841a",
   "metadata": {
    "id": "3rbpqBGiyG_r"
   },
   "source": [
    "## Vídeo 1.2 - Configurando o LlamaIndex"
   ]
  },
  {
   "cell_type": "code",
   "execution_count": null,
   "id": "069896de",
   "metadata": {
    "id": "QMzMw0wUDiId"
   },
   "outputs": [],
   "source": [
    "!pip install llama-index llama_index.embeddings.huggingface llama-index-readers-file llama-index-llms-groq arxiv llama-index-tools-tavily-research crewai crewai-tools gradio"
   ]
  },
  {
   "cell_type": "code",
   "execution_count": null,
   "id": "249c3a04",
   "metadata": {
    "id": "dqHDQ5pGylR0"
   },
   "outputs": [],
   "source": [
    "from llama_index.core import Settings"
   ]
  },
  {
   "cell_type": "code",
   "execution_count": null,
   "id": "2d11878b",
   "metadata": {
    "id": "2d8leJQuy1Ig"
   },
   "outputs": [],
   "source": [
    "from google.colab import userdata\n",
    "groq = userdata.get('GROQ_API_KEY')"
   ]
  },
  {
   "cell_type": "code",
   "execution_count": null,
   "id": "07db18d5",
   "metadata": {
    "id": "_p0npmb002xH"
   },
   "outputs": [],
   "source": [
    "from llama_index.llms.groq import Groq\n",
    "\n",
    "llm = Groq(model=\"llama3-groq-70b-8192-tool-use-preview\", api_key=groq)"
   ]
  },
  {
   "cell_type": "code",
   "execution_count": null,
   "id": "36649b2e",
   "metadata": {
    "id": "g-ZDj1cl3V4l"
   },
   "outputs": [],
   "source": [
    "Settings.llm = llm"
   ]
  },
  {
   "cell_type": "code",
   "execution_count": null,
   "id": "09745fe5",
   "metadata": {
    "id": "GZX5OHSQ3gSD"
   },
   "outputs": [],
   "source": [
    "def calcular_engajamento(curtidas: int, comentarios: int, compartilhamentos: int, seguidores: int) -> str:\n",
    "    \"\"\"\n",
    "    Calcula o engajamento total e a taxa de engajamento de uma postagem.\n",
    "\n",
    "    Args:\n",
    "        curtidas (int): Número de curtidas na postagem.\n",
    "        comentarios (int): Número de comentários na postagem.\n",
    "        compartilhamentos (int): Número de compartilhamentos da postagem.\n",
    "        seguidores (int): Número total de seguidores.\n",
    "\n",
    "    Returns:\n",
    "        dict: Um dicionário contendo o engajamento total (int) e a taxa de engajamento (float, em porcentagem).\n",
    "    \"\"\"\n",
    "    engajamento_total = curtidas + comentarios + compartilhamentos\n",
    "    taxa_engajamento = (engajamento_total / seguidores) * 100 if seguidores > 0 else 0\n",
    "    dicionario = {\"engajamento_total\": engajamento_total,\"taxa_engajamento\": round(taxa_engajamento, 2)}\n",
    "    resultado = f\"O engajamento total é {engajamento_total} e a taxa de engajamento é {round(taxa_engajamento, 2)}%.\"\n",
    "    # Return the dictionary directly\n",
    "    return resultado"
   ]
  },
  {
   "cell_type": "markdown",
   "id": "9ce92425",
   "metadata": {
    "id": "_xzWodeG30vU"
   },
   "source": [
    "## Vídeo 1.3 - Transformando a função em ferramenta"
   ]
  },
  {
   "cell_type": "code",
   "execution_count": null,
   "id": "31cd227c",
   "metadata": {
    "id": "SW2TJtS33jgm"
   },
   "outputs": [],
   "source": [
    "from llama_index.core.tools import FunctionTool"
   ]
  },
  {
   "cell_type": "code",
   "execution_count": null,
   "id": "4a106747",
   "metadata": {
    "id": "Pz4gApGf5eI7"
   },
   "outputs": [],
   "source": [
    "ferramenta = FunctionTool.from_defaults(fn=calcular_engajamento,name=\"Calcular Engajamento\",description=(\n",
    "        \"Calcula o engajamento total e a taxa de engajamento de uma postagem nas redes sociais. \"\n",
    "        \"Argumentos: curtidas (int), comentarios (int), compartilhamentos (int), seguidores (int). \"\n",
    "        \"Retorna uma string com o engajamento total e a taxa de engajamento.\"\n",
    "    ))"
   ]
  },
  {
   "cell_type": "code",
   "execution_count": null,
   "id": "c885cd25",
   "metadata": {
    "id": "RGZ88sGUInWM"
   },
   "outputs": [],
   "source": [
    "from llama_index.core.agent import FunctionCallingAgentWorker"
   ]
  },
  {
   "cell_type": "code",
   "execution_count": null,
   "id": "ce57efe0",
   "metadata": {
    "id": "nAAj1Tq7IpMB"
   },
   "outputs": [],
   "source": [
    "agent_worker = FunctionCallingAgentWorker.from_tools(\n",
    "    tools=[ferramenta],\n",
    "    verbose=True,\n",
    "    allow_parallel_tool_calls=True,\n",
    "    llm=llm,\n",
    ")"
   ]
  },
  {
   "cell_type": "code",
   "execution_count": null,
   "id": "5404748c",
   "metadata": {
    "id": "11XOdp_HKDPk"
   },
   "outputs": [],
   "source": [
    "from llama_index.core.agent import AgentRunner"
   ]
  },
  {
   "cell_type": "code",
   "execution_count": null,
   "id": "3ab0bb44",
   "metadata": {
    "id": "uOTi0ZqHKLwA"
   },
   "outputs": [],
   "source": [
    "agent = AgentRunner(agent_worker)"
   ]
  },
  {
   "cell_type": "code",
   "execution_count": null,
   "id": "48a9a6f3",
   "metadata": {
    "id": "z8fvWuFsKNqI"
   },
   "outputs": [],
   "source": [
    "response =agent.chat(\"Qual é o engajamento de uma postagem que teve 150 curtidas, 35 comentários, 20 compartilhamentos, e o perfil tem 2000 seguidores?\")"
   ]
  },
  {
   "cell_type": "code",
   "execution_count": null,
   "id": "57788891",
   "metadata": {
    "id": "7RxIyuDcKktP"
   },
   "outputs": [],
   "source": [
    "response = agent.chat(\"Quem é Albert Einstein?\")"
   ]
  },
  {
   "cell_type": "markdown",
   "id": "50e5ca38",
   "metadata": {
    "id": "pGVU_4CEK1jv"
   },
   "source": [
    "## Vídeo 1.4 - Consultando artigos"
   ]
  },
  {
   "cell_type": "code",
   "execution_count": null,
   "id": "a93f68c9",
   "metadata": {
    "id": "RQFRh6ywKm74"
   },
   "outputs": [],
   "source": [
    "import arxiv"
   ]
  },
  {
   "cell_type": "code",
   "execution_count": null,
   "id": "d8f2ff4a",
   "metadata": {
    "id": "hVz9_zxvLoPV"
   },
   "outputs": [],
   "source": [
    "def consulta_artigos(titulo: str) -> str:\n",
    "    \"\"\"\n",
    "    Consulta os artigos na base de dados arXiv e retorna resultados formatados.\n",
    "    \"\"\"\n",
    "    busca = arxiv.Search(\n",
    "        query=titulo,\n",
    "        max_results=5,\n",
    "        sort_by=arxiv.SortCriterion.Relevance\n",
    "    )\n",
    "\n",
    "    resultados = []\n",
    "    for resultado in busca.results():\n",
    "        resultados.append(f\"Título: {resultado.title}\\n\"\n",
    "                          f\"Resumo: {resultado.summary}\\n\"\n",
    "                          f\"Categoria: {resultado.primary_category}\\n\"\n",
    "                          f\"Link: {resultado.entry_id}\\n\")\n",
    "\n",
    "    return \"\\n\\n\".join(resultados)"
   ]
  },
  {
   "cell_type": "code",
   "execution_count": null,
   "id": "3368b6aa",
   "metadata": {
    "id": "1O49TMAoLo1g"
   },
   "outputs": [],
   "source": [
    "consulta_artigos_tool = FunctionTool.from_defaults(fn=consulta_artigos)"
   ]
  },
  {
   "cell_type": "code",
   "execution_count": null,
   "id": "de16be25",
   "metadata": {
    "id": "VKPxtifSLr0D"
   },
   "outputs": [],
   "source": [
    "agent_worker = FunctionCallingAgentWorker.from_tools(\n",
    "    [ferramenta, consulta_artigos_tool],\n",
    "    verbose=True,\n",
    "    allow_parallel_tool_calls=False,\n",
    ")"
   ]
  },
  {
   "cell_type": "code",
   "execution_count": null,
   "id": "2ea9cd6a",
   "metadata": {
    "id": "NhPXxJcPNXVi"
   },
   "outputs": [],
   "source": [
    "agent = AgentRunner(agent_worker)"
   ]
  },
  {
   "cell_type": "code",
   "execution_count": null,
   "id": "113bd2a0",
   "metadata": {
    "id": "Jff1Ax5qNf8g"
   },
   "outputs": [],
   "source": [
    "response = agent.chat(\"Me retorne artigos sobre o uso da inteligência artificial nas redes sociais\")"
   ]
  }
 ],
 "metadata": {},
 "nbformat": 4,
 "nbformat_minor": 5
}